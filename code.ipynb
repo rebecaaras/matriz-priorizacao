{
  "nbformat": 4,
  "nbformat_minor": 0,
  "metadata": {
    "colab": {
      "provenance": []
    },
    "kernelspec": {
      "name": "python3",
      "display_name": "Python 3"
    },
    "language_info": {
      "name": "python"
    }
  },
  "cells": [
    {
      "cell_type": "markdown",
      "source": [
        "# Matriz de Priorização"
      ],
      "metadata": {
        "id": "JMimSzIv7Oxy"
      }
    },
    {
      "cell_type": "markdown",
      "source": [
        "Abaixo são selecionadas as colunas referentes ao fator blablabla."
      ],
      "metadata": {
        "id": "jTiKIPC77WeI"
      }
    },
    {
      "cell_type": "code",
      "execution_count": 30,
      "metadata": {
        "id": "bzMVRDtEu8iI"
      },
      "outputs": [],
      "source": [
        "import matplotlib.pyplot as plt\n",
        "import numpy as np\n",
        "import pandas as pd"
      ]
    },
    {
      "cell_type": "code",
      "source": [
        "# Load an Excel file into a DataFrame\n",
        "df = pd.read_excel('matriz-priorizacao.xlsx')\n",
        "df\n",
        "\n",
        "x = df.iloc[:,5].tolist()\n",
        "y = df.iloc[:,6].tolist()\n",
        "sizes = df.iloc[:,7].tolist()#np.random.uniform(15, 80, len(x))"
      ],
      "metadata": {
        "id": "F3hjkXPwwFOC"
      },
      "execution_count": 36,
      "outputs": []
    },
    {
      "cell_type": "code",
      "source": [
        "plt.style.use('_mpl-gallery')\n",
        "\n",
        "# make the data\n",
        "np.random.seed(3)\n",
        "#x = 4 + np.random.normal(0, 2, 24)\n",
        "#y = 4 + np.random.normal(0, 2, len(x))\n",
        "# size and color:\n",
        "#sizes = np.random.uniform(15, 80, len(x))\n",
        "colors = np.random.uniform(15, 80, len(x))\n",
        "\n",
        "# plot\n",
        "fig, ax = plt.subplots()\n",
        "\n",
        "ax.scatter(x, y, s=sizes, c=colors, vmin=0, vmax=100)\n",
        "\n",
        "ax.set(xlim=(0, 3), xticks=np.arange(1, 3),\n",
        "       ylim=(0, 3), yticks=np.arange(1, 3))\n",
        "\n",
        "plt.show()"
      ],
      "metadata": {
        "colab": {
          "base_uri": "https://localhost:8080/",
          "height": 251
        },
        "id": "6X9eVB5tvYPD",
        "outputId": "ea6f9b56-778f-4df1-deaa-81e5b40f0fef"
      },
      "execution_count": 40,
      "outputs": [
        {
          "output_type": "display_data",
          "data": {
            "text/plain": [
              "<Figure size 200x200 with 1 Axes>"
            ],
            "image/png": "[encoded data removed]"
          },
          "metadata": {}
        }
      ]
    }
  ]
}